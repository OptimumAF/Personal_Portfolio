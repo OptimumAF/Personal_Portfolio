{
 "cells": [
  {
   "cell_type": "code",
   "execution_count": 1,
   "metadata": {},
   "outputs": [
    {
     "name": "stdout",
     "output_type": "stream",
     "text": [
      "Collecting openai\n",
      "  Downloading openai-0.27.2-py3-none-any.whl (70 kB)\n",
      "     ---------------------------------------- 70.1/70.1 kB 3.7 MB/s eta 0:00:00\n",
      "Collecting flask\n",
      "  Downloading Flask-2.2.3-py3-none-any.whl (101 kB)\n",
      "     ---------------------------------------- 101.8/101.8 kB ? eta 0:00:00\n",
      "Collecting requests>=2.20\n",
      "  Downloading requests-2.28.2-py3-none-any.whl (62 kB)\n",
      "     ---------------------------------------- 62.8/62.8 kB 3.3 MB/s eta 0:00:00\n",
      "Collecting tqdm\n",
      "  Downloading tqdm-4.65.0-py3-none-any.whl (77 kB)\n",
      "     ---------------------------------------- 77.1/77.1 kB ? eta 0:00:00\n",
      "Collecting aiohttp\n",
      "  Downloading aiohttp-3.8.4-cp311-cp311-win_amd64.whl (317 kB)\n",
      "     -------------------------------------- 317.2/317.2 kB 9.9 MB/s eta 0:00:00\n",
      "Collecting Werkzeug>=2.2.2\n",
      "  Downloading Werkzeug-2.2.3-py3-none-any.whl (233 kB)\n",
      "     ------------------------------------- 233.6/233.6 kB 14.0 MB/s eta 0:00:00\n",
      "Collecting Jinja2>=3.0\n",
      "  Downloading Jinja2-3.1.2-py3-none-any.whl (133 kB)\n",
      "     ---------------------------------------- 133.1/133.1 kB ? eta 0:00:00\n",
      "Collecting itsdangerous>=2.0\n",
      "  Downloading itsdangerous-2.1.2-py3-none-any.whl (15 kB)\n",
      "Collecting click>=8.0\n",
      "  Using cached click-8.1.3-py3-none-any.whl (96 kB)\n",
      "Requirement already satisfied: colorama in c:\\users\\avery\\website\\personal_portfolio\\.conda\\lib\\site-packages (from click>=8.0->flask) (0.4.6)\n",
      "Collecting MarkupSafe>=2.0\n",
      "  Downloading MarkupSafe-2.1.2-cp311-cp311-win_amd64.whl (16 kB)\n",
      "Collecting charset-normalizer<4,>=2\n",
      "  Downloading charset_normalizer-3.1.0-cp311-cp311-win_amd64.whl (96 kB)\n",
      "     ---------------------------------------- 96.7/96.7 kB ? eta 0:00:00\n",
      "Collecting idna<4,>=2.5\n",
      "  Downloading idna-3.4-py3-none-any.whl (61 kB)\n",
      "     ---------------------------------------- 61.5/61.5 kB 3.4 MB/s eta 0:00:00\n",
      "Collecting urllib3<1.27,>=1.21.1\n",
      "  Downloading urllib3-1.26.15-py2.py3-none-any.whl (140 kB)\n",
      "     -------------------------------------- 140.9/140.9 kB 8.7 MB/s eta 0:00:00\n",
      "Requirement already satisfied: certifi>=2017.4.17 in c:\\users\\avery\\website\\personal_portfolio\\.conda\\lib\\site-packages (from requests>=2.20->openai) (2022.12.7)\n",
      "Collecting attrs>=17.3.0\n",
      "  Downloading attrs-22.2.0-py3-none-any.whl (60 kB)\n",
      "     ---------------------------------------- 60.0/60.0 kB 3.1 MB/s eta 0:00:00\n",
      "Collecting multidict<7.0,>=4.5\n",
      "  Downloading multidict-6.0.4-cp311-cp311-win_amd64.whl (28 kB)\n",
      "Collecting async-timeout<5.0,>=4.0.0a3\n",
      "  Downloading async_timeout-4.0.2-py3-none-any.whl (5.8 kB)\n",
      "Collecting yarl<2.0,>=1.0\n",
      "  Downloading yarl-1.8.2-cp311-cp311-win_amd64.whl (55 kB)\n",
      "     ---------------------------------------- 55.3/55.3 kB ? eta 0:00:00\n",
      "Collecting frozenlist>=1.1.1\n",
      "  Downloading frozenlist-1.3.3-cp311-cp311-win_amd64.whl (32 kB)\n",
      "Collecting aiosignal>=1.1.2\n",
      "  Downloading aiosignal-1.3.1-py3-none-any.whl (7.6 kB)\n",
      "Installing collected packages: urllib3, tqdm, multidict, MarkupSafe, itsdangerous, idna, frozenlist, click, charset-normalizer, attrs, async-timeout, yarl, Werkzeug, requests, Jinja2, aiosignal, flask, aiohttp, openai\n",
      "Successfully installed Jinja2-3.1.2 MarkupSafe-2.1.2 Werkzeug-2.2.3 aiohttp-3.8.4 aiosignal-1.3.1 async-timeout-4.0.2 attrs-22.2.0 charset-normalizer-3.1.0 click-8.1.3 flask-2.2.3 frozenlist-1.3.3 idna-3.4 itsdangerous-2.1.2 multidict-6.0.4 openai-0.27.2 requests-2.28.2 tqdm-4.65.0 urllib3-1.26.15 yarl-1.8.2\n"
     ]
    }
   ],
   "source": [
    "!pip install openai flask"
   ]
  },
  {
   "cell_type": "code",
   "execution_count": 2,
   "metadata": {},
   "outputs": [],
   "source": [
    "import openai\n",
    "import json\n",
    "from flask import Flask, request, jsonify"
   ]
  },
  {
   "cell_type": "code",
   "execution_count": 3,
   "metadata": {},
   "outputs": [],
   "source": []
  },
  {
   "cell_type": "code",
   "execution_count": 4,
   "metadata": {},
   "outputs": [],
   "source": [
    "with open(\"api_key.txt\", \"r\") as apiFile:\n",
    "    openai.api_key = apiFile.readline()"
   ]
  },
  {
   "cell_type": "code",
   "execution_count": 7,
   "metadata": {},
   "outputs": [],
   "source": [
    "app = Flask(__name__)\n",
    "@app.route('/chat', methods=['POST'])\n",
    "def chat():\n",
    "    user_message = request.json['message']\n",
    "    gpt_response = openai.Completion.create(\n",
    "        engine=\"text-davinci-002\",\n",
    "        prompt=f\"User: {user_message}\\nAI:\",\n",
    "        temperature=0.8,\n",
    "        max_tokens=100,\n",
    "        top_p=1,\n",
    "        frequency_penalty=0,\n",
    "        presence_penalty=0,\n",
    "        stop=[\"User:\"]\n",
    "    )\n",
    "\n",
    "    ai_message = gpt_response.choices[0].text.strip()\n",
    "    return jsonify({'message': ai_message})"
   ]
  },
  {
   "cell_type": "code",
   "execution_count": 8,
   "metadata": {},
   "outputs": [
    {
     "name": "stdout",
     "output_type": "stream",
     "text": [
      " * Serving Flask app '__main__'\n",
      " * Debug mode: on\n"
     ]
    },
    {
     "name": "stderr",
     "output_type": "stream",
     "text": [
      "WARNING: This is a development server. Do not use it in a production deployment. Use a production WSGI server instead.\n",
      " * Running on http://127.0.0.1:5000\n",
      "Press CTRL+C to quit\n",
      " * Restarting with stat\n"
     ]
    },
    {
     "ename": "SystemExit",
     "evalue": "1",
     "output_type": "error",
     "traceback": [
      "An exception has occurred, use %tb to see the full traceback.\n",
      "\u001b[1;31mSystemExit\u001b[0m\u001b[1;31m:\u001b[0m 1\n"
     ]
    },
    {
     "name": "stderr",
     "output_type": "stream",
     "text": [
      "c:\\Users\\Avery\\website\\Personal_Portfolio\\.conda\\Lib\\site-packages\\IPython\\core\\interactiveshell.py:3468: UserWarning: To exit: use 'exit', 'quit', or Ctrl-D.\n",
      "  warn(\"To exit: use 'exit', 'quit', or Ctrl-D.\", stacklevel=1)\n"
     ]
    }
   ],
   "source": [
    "app.run(debug=True)"
   ]
  },
  {
   "cell_type": "code",
   "execution_count": 12,
   "metadata": {},
   "outputs": [
    {
     "name": "stdout",
     "output_type": "stream",
     "text": [
      "aiohttp==3.8.4\n",
      "aiosignal==1.3.1\n",
      "asttokens==2.2.1\n",
      "async-timeout==4.0.2\n",
      "attrs==22.2.0\n",
      "awsebcli==3.20.5\n",
      "backcall==0.2.0\n",
      "backports.functools-lru-cache==1.6.4\n",
      "botocore==1.29.81\n",
      "cement==2.8.2\n",
      "certifi==2022.12.7\n",
      "charset-normalizer==2.0.12\n",
      "click==8.1.3\n",
      "colorama==0.4.3\n",
      "comm==0.1.2\n",
      "debugpy==1.6.6\n",
      "decorator==5.1.1\n",
      "executing==1.2.0\n",
      "Flask==2.2.3\n",
      "Flask-Cors==3.0.10\n",
      "frozenlist==1.3.3\n",
      "gunicorn==20.1.0\n",
      "idna==3.4\n",
      "importlib-metadata==6.1.0\n",
      "ipykernel==6.21.3\n",
      "ipython==8.11.0\n",
      "itsdangerous==2.1.2\n",
      "jedi==0.18.2\n",
      "Jinja2==3.1.2\n",
      "jmespath==1.0.1\n",
      "jupyter_client==8.0.3\n",
      "jupyter_core==5.3.0\n",
      "MarkupSafe==2.1.2\n",
      "matplotlib-inline==0.1.6\n",
      "multidict==6.0.4\n",
      "nest-asyncio==1.5.6\n",
      "openai==0.27.2\n",
      "packaging==23.0\n",
      "parso==0.8.3\n",
      "pathspec==0.10.1\n",
      "pickleshare==0.7.5\n",
      "platformdirs==3.1.1\n",
      "prompt-toolkit==3.0.38\n",
      "psutil==5.9.4\n",
      "pure-eval==0.2.2\n",
      "Pygments==2.14.0\n",
      "pypiwin32==223\n",
      "python-dateutil==2.8.2\n",
      "pywin32==304\n",
      "PyYAML==5.4.1\n",
      "pyzmq==25.0.1\n",
      "requests==2.26.0\n",
      "semantic-version==2.8.5\n",
      "six==1.14.0\n",
      "stack-data==0.6.2\n",
      "termcolor==1.1.0\n",
      "tornado==6.2\n",
      "tqdm==4.65.0\n",
      "traitlets==5.9.0\n",
      "typing_extensions==4.5.0\n",
      "urllib3==1.26.15\n",
      "wcwidth==0.1.9\n",
      "Werkzeug==2.2.3\n",
      "wincertstore==0.2\n",
      "yarl==1.8.2\n",
      "zipp==3.15.0\n",
      "\n"
     ]
    }
   ],
   "source": [
    "import subprocess\n",
    "new_file = \"\"\n",
    "with open(\"requirements.txt\", \"r\") as inFile:\n",
    "    for line in inFile:\n",
    "        if \"@\" in line:\n",
    "            package = str(line).split(\" @ \")[0]\n",
    "            data = subprocess.run([\"pip\", \"show\", package], stdout=subprocess.PIPE).stdout.decode('utf-8').split(\"\\n\")\n",
    "            for spec in data:\n",
    "                if \"Version:\" in spec:\n",
    "                    version = spec.split(\":\")[-1].strip()\n",
    "                    new_file += f\"{package}=={version}\\n\"\n",
    "        else:\n",
    "            new_file += f\"{line}\"\n",
    "\n",
    "print(new_file)"
   ]
  },
  {
   "cell_type": "code",
   "execution_count": 13,
   "metadata": {},
   "outputs": [],
   "source": [
    "with open(\"requirements.txt\", \"w\") as outFile:\n",
    "    outFile.write(new_file)"
   ]
  },
  {
   "cell_type": "code",
   "execution_count": null,
   "metadata": {},
   "outputs": [],
   "source": [
    "!conda env export --no-builds > environment.yaml"
   ]
  },
  {
   "cell_type": "code",
   "execution_count": 1,
   "metadata": {},
   "outputs": [],
   "source": [
    "import yaml\n",
    "\n",
    "with open(\"environment.yaml\", \"r\") as yaml_file:\n",
    "    yaml_data = yaml.safe_load(yaml_file)\n",
    "\n",
    "with open(\"requirements.txt\", \"w\") as req_file:\n",
    "    for dep in yaml_data[\"dependencies\"]:\n",
    "        if isinstance(dep, str) and \"::\" not in dep:\n",
    "            req_file.write(dep + \"\\n\")\n"
   ]
  },
  {
   "cell_type": "code",
   "execution_count": null,
   "metadata": {},
   "outputs": [],
   "source": []
  }
 ],
 "metadata": {
  "kernelspec": {
   "display_name": "Python 3",
   "language": "python",
   "name": "python3"
  },
  "language_info": {
   "codemirror_mode": {
    "name": "ipython",
    "version": 3
   },
   "file_extension": ".py",
   "mimetype": "text/x-python",
   "name": "python",
   "nbconvert_exporter": "python",
   "pygments_lexer": "ipython3",
   "version": "3.11.0"
  },
  "orig_nbformat": 4
 },
 "nbformat": 4,
 "nbformat_minor": 2
}
