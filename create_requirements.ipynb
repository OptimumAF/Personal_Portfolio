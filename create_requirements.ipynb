{
 "cells": [
  {
   "cell_type": "code",
   "execution_count": null,
   "metadata": {},
   "outputs": [],
   "source": [
    "!pip freeze > requirements.txt"
   ]
  },
  {
   "cell_type": "code",
   "execution_count": null,
   "metadata": {},
   "outputs": [],
   "source": [
    "import subprocess\n",
    "new_file = \"\"\n",
    "with open(\"requirements.txt\", \"r\") as inFile:\n",
    "    for line in inFile:\n",
    "        if \"@\" in line:\n",
    "            package = str(line).split(\" @ \")[0]\n",
    "            data = subprocess.run([\"pip\", \"show\", package], stdout=subprocess.PIPE).stdout.decode('utf-8').split(\"\\n\")\n",
    "            for spec in data:\n",
    "                if \"Version:\" in spec:\n",
    "                    version = spec.split(\":\")[-1].strip()\n",
    "                    new_file += f\"{package}=={version}\\n\"\n",
    "        else:\n",
    "            new_file += f\"{line}\"\n",
    "\n",
    "print(new_file)"
   ]
  },
  {
   "cell_type": "code",
   "execution_count": null,
   "metadata": {},
   "outputs": [],
   "source": [
    "with open(\"requirements.txt\", \"w\") as outFile:\n",
    "    outFile.write(new_file)"
   ]
  }
 ],
 "metadata": {
  "language_info": {
   "name": "python"
  },
  "orig_nbformat": 4
 },
 "nbformat": 4,
 "nbformat_minor": 2
}
